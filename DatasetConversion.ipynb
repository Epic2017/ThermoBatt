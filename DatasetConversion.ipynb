{
  "nbformat": 4,
  "nbformat_minor": 0,
  "metadata": {
    "colab": {
      "provenance": []
    },
    "kernelspec": {
      "name": "python3",
      "display_name": "Python 3"
    },
    "language_info": {
      "name": "python"
    }
  },
  "cells": [
    {
      "cell_type": "markdown",
      "source": [
        "*italicized text*# Exploratory Analysis\n",
        "[link text](https://)"
      ],
      "metadata": {
        "id": "-euddZ2xY-T7"
      }
    },
    {
      "cell_type": "markdown",
      "source": [
        "# Explore"
      ],
      "metadata": {
        "id": "blAG5YzrmxIL"
      }
    },
    {
      "cell_type": "code",
      "source": [
        "#import libraries and view dataset\n",
        "import numpy as np\n",
        "import pandas as pd\n",
        "from pandas import Series\n",
        "from numpy.random import randn\n",
        "import csv #csv library col-name\n",
        "import scipy.io\n",
        "\n",
        "#import data from google drive\n",
        "from google.colab import drive\n",
        "drive.mount('/content/drive')\n",
        "\n",
        "# Load the metadata file\n",
        "metadata = pd.read_csv('/content/drive/MyDrive/BatteryProjectData/cleaned_dataset/metadata.csv')\n",
        "\n",
        "# Filter for battery B0005\n",
        "battery_data = metadata[metadata['battery_id'] == 'B0005']"
      ],
      "metadata": {
        "id": "LxZsNttjGVXM",
        "colab": {
          "base_uri": "https://localhost:8080/"
        },
        "outputId": "b2fc0f50-acaa-497a-f9c1-1b95938e0292"
      },
      "execution_count": null,
      "outputs": [
        {
          "output_type": "stream",
          "name": "stdout",
          "text": [
            "Drive already mounted at /content/drive; to attempt to forcibly remount, call drive.mount(\"/content/drive\", force_remount=True).\n"
          ]
        }
      ]
    },
    {
      "cell_type": "code",
      "source": [
        "# separate charge cycles\n",
        "charge_cycles = battery_data[battery_data['type'] == 'charge']\n",
        "\n",
        "# Function to process individual cycle files\n",
        "def process_charge_cycle_files(cycles_df):\n",
        "    all_cycles = []\n",
        "    cycle_num = 1\n",
        "    for index, row in cycles_df.iterrows():\n",
        "        cycle_data = pd.read_csv(f'/content/drive/MyDrive/BatteryProjectData/cleaned_dataset/data/{row[\"filename\"]}')\n",
        "        cycle_data['cycle_number'] = cycle_num\n",
        "        cycle_data['start_time'] = row['start_time']\n",
        "        cycle_data['ambient_temperature'] = row['ambient_temperature']\n",
        "        all_cycles.append(cycle_data)\n",
        "        cycle_num += 1\n",
        "    return pd.concat(all_cycles)\n",
        "\n",
        "# Process charge and discharge cycles\n",
        "charge_data = process_charge_cycle_files(charge_cycles)\n",
        "\n",
        "try:\n",
        "    # Save Charge and discharge data as csv files\n",
        "    charge_data.to_csv('/content/drive/MyDrive/BatteryProjectData/MyCleanedData/charge_data_B0005.csv', index=False)\n",
        "\n",
        "\n",
        "    print(f\"charge_data Saved to {'charge_data_B0005'}\")\n",
        "\n",
        "except Exception as e:\n",
        "    print(f\"Could not save charge_data: {e}\")"
      ],
      "metadata": {
        "colab": {
          "base_uri": "https://localhost:8080/"
        },
        "id": "LD525TLDjll-",
        "outputId": "8990c41f-6a67-4760-e603-d938d3138095"
      },
      "execution_count": null,
      "outputs": [
        {
          "output_type": "stream",
          "name": "stdout",
          "text": [
            "charge_data Saved to charge_data_B0005\n"
          ]
        }
      ]
    },
    {
      "cell_type": "code",
      "source": [
        "# separate discharge cycles\n",
        "discharge_cycles = battery_data[battery_data['type'] == 'discharge']\n",
        "\n",
        "# Function to process individual cycle files\n",
        "def process_discharge_cycle_files(cycles_df):\n",
        "    all_cycles = []\n",
        "    cycle_num = 1\n",
        "    for index, row in cycles_df.iterrows():\n",
        "        cycle_data = pd.read_csv(f'/content/drive/MyDrive/BatteryProjectData/cleaned_dataset/data/{row[\"filename\"]}')\n",
        "        cycle_data['cycle_number'] = cycle_num\n",
        "        cycle_data['start_time'] = row['start_time']\n",
        "        cycle_data['ambient_temperature'] = row['ambient_temperature']\n",
        "        cycle_data['Capacity'] = row['Capacity']\n",
        "        all_cycles.append(cycle_data)\n",
        "        cycle_num += 1\n",
        "    return pd.concat(all_cycles)\n",
        "\n",
        "# Process charge and discharge cycles\n",
        "discharge_data = process_discharge_cycle_files(discharge_cycles)\n",
        "\n",
        "try:\n",
        "    # Save Charge and discharge data as csv files\n",
        "    discharge_data.to_csv('/content/drive/MyDrive/BatteryProjectData/MyCleanedData/discharge_data_B0005.csv', index=False)\n",
        "\n",
        "    print(f\"discharge_data Saved to {'discharge_data_B0005'}\")\n",
        "\n",
        "except Exception as e:\n",
        "    print(f\"Could not save discharge_data: {e}\")"
      ],
      "metadata": {
        "colab": {
          "base_uri": "https://localhost:8080/"
        },
        "id": "uTPjc7oHiyCO",
        "outputId": "0b9c8dac-842e-4c2e-a67d-964bc0d934d4"
      },
      "execution_count": null,
      "outputs": [
        {
          "output_type": "stream",
          "name": "stdout",
          "text": [
            "discharge_data Saved to discharge_data_B0005\n"
          ]
        }
      ]
    },
    {
      "cell_type": "code",
      "source": [
        "# separate impedance cycles\n",
        "impedance_cycles = battery_data[battery_data['type'] == 'impedance']\n",
        "\n",
        "# Function to process individual cycle files\n",
        "def process_impedance_cycle_files(cycles_df):\n",
        "    all_cycles = []\n",
        "    cycle_num = 1\n",
        "    for index, row in cycles_df.iterrows():\n",
        "        cycle_data = pd.read_csv(f'/content/drive/MyDrive/BatteryProjectData/cleaned_dataset/data/{row[\"filename\"]}')\n",
        "        cycle_data['cycle_number'] = cycle_num\n",
        "        cycle_data['start_time'] = row['start_time']\n",
        "        cycle_data['ambient_temperature'] = row['ambient_temperature']\n",
        "        cycle_data['Re'] = row['Re']\n",
        "        cycle_data['Rct'] = row['Rct']\n",
        "        all_cycles.append(cycle_data)\n",
        "        cycle_num += 1\n",
        "    return pd.concat(all_cycles)\n",
        "\n",
        "# Process charge and discharge cycles\n",
        "impedance_data = process_impedance_cycle_files(impedance_cycles)\n",
        "\n",
        "# Function to process the complex imaginary numbers\n",
        "def split_complex_number(complex_str):\n",
        "    try:\n",
        "        # Convert string to complex number\n",
        "        complex_num = complex(complex_str.replace('j', 'j '))\n",
        "\n",
        "        # Return real and imaginary parts\n",
        "        return complex_num.real, complex_num.imag\n",
        "    except ValueError:\n",
        "        # Handle cases where conversion fails\n",
        "        return None, None\n",
        "\n",
        "# Columns to process\n",
        "columns_to_process = ['Sense_current', 'Battery_current', 'Current_ratio', 'Battery_impedance']\n",
        "\n",
        "for column in columns_to_process:\n",
        "    # Split each column into real and imaginary parts\n",
        "    impedance_data[column + '_real'], impedance_data[column + '_imag'] = zip(*impedance_data[column].apply(split_complex_number))\n",
        "\n",
        "# drop the original columns if they are no longer needed\n",
        "impedance_data = impedance_data.drop(columns=columns_to_process)\n",
        "\n",
        "try:\n",
        "    # Save Charge and discharge data as csv files\n",
        "    impedance_data.to_csv('/content/drive/MyDrive/BatteryProjectData/MyCleanedData/impedance_data_B0005.csv', index=False)\n",
        "\n",
        "    print(f\"impedance_data Saved to {'impedance_data_B0005'}\")\n",
        "\n",
        "except Exception as e:\n",
        "    print(f\"Could not save impedance_data: {e}\")"
      ],
      "metadata": {
        "colab": {
          "base_uri": "https://localhost:8080/"
        },
        "id": "Wbbxq6iHhvDM",
        "outputId": "b799fcb5-f30d-4c80-b30c-04cf5e1940ef"
      },
      "execution_count": null,
      "outputs": [
        {
          "output_type": "stream",
          "name": "stdout",
          "text": [
            "impedance_data Saved to impedance_data_B0005\n"
          ]
        }
      ]
    },
    {
      "cell_type": "code",
      "source": [
        "# combine all experimental cycles for B0005 together\n",
        "\n",
        "# Function to process a single cycle file\n",
        "def process_cycle(row):\n",
        "    cycle_data = pd.read_csv(f'/content/drive/MyDrive/BatteryProjectData/cleaned_dataset/data/{row[\"filename\"]}')\n",
        "    cycle_data['cycle_type'] = row['type']\n",
        "    cycle_data['start_time'] = row['start_time']\n",
        "    cycle_data['ambient_temperature'] = row['ambient_temperature']\n",
        "\n",
        "    # Additional attributes for discharge and impedance cycles\n",
        "    if row['type'] == 'discharge':\n",
        "        cycle_data['Capacity'] = row['Capacity']\n",
        "    elif row['type'] == 'impedance':\n",
        "        cycle_data['Re'] = row['Re']\n",
        "        cycle_data['Rct'] = row['Rct']\n",
        "\n",
        "    return cycle_data\n",
        "\n",
        "# Process all cycles in the order they appear in the metadata\n",
        "all_cycles = [process_cycle(row) for _, row in battery_data.iterrows()]\n",
        "all_data = pd.concat(all_cycles)\n",
        "\n",
        "try:\n",
        "    # Save merged data as a csv file\n",
        "    all_data.to_csv('/content/drive/MyDrive/BatteryProjectData/MyCleanedData/all_data.csv', index=False)\n",
        "    print(\"Data Saved to 'all_data.csv'\")\n",
        "except Exception as e:\n",
        "    print(f\"Could not save data: {e}\")\n"
      ],
      "metadata": {
        "id": "PAf_kBKhdsJe",
        "colab": {
          "base_uri": "https://localhost:8080/"
        },
        "outputId": "7ad813b5-395c-444d-81e8-69ee9ecdf035"
      },
      "execution_count": null,
      "outputs": [
        {
          "output_type": "stream",
          "name": "stdout",
          "text": [
            "Data Saved to 'all_data.csv'\n"
          ]
        }
      ]
    }
  ]
}